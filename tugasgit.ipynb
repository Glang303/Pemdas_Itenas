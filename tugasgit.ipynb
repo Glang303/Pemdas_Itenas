{
 "cells": [
  {
   "cell_type": "code",
   "execution_count": 14,
   "metadata": {},
   "outputs": [
    {
     "name": "stdout",
     "output_type": "stream",
     "text": [
      "    Nama  Usia   Gaji\n",
      "0   John    25  50000\n",
      "1   Jane    35  60000\n",
      "2    Bob    30  70000\n",
      "3  Alice    28  55000\n",
      "\n",
      "     Nama  Usia   Gaji\n",
      "0   John    25  52500\n",
      "1   Jane    35  63000\n",
      "2    Bob    30  73500\n",
      "3  Alice    28  57750\n",
      "\n",
      "Ringkasan perubahan gaji setelah peningkatan 5%:\n",
      "    Nama   Gaji\n",
      "0   John  52500\n",
      "1   Jane  63000\n",
      "2    Bob  73500\n",
      "3  Alice  57750\n",
      "\n",
      "Ringkasan hasil peningkatan gaji tambahan:\n",
      "    Nama  Usia   Gaji\n",
      "0   John    25  52500\n",
      "1   Jane    35  64260\n",
      "2    Bob    30  73500\n",
      "3  Alice    28  57750\n"
     ]
    }
   ],
   "source": [
    "import pandas as pd\n",
    "\n",
    "data = {'Nama': ['John', 'Jane', 'Bob', 'Alice'],\n",
    "        'Usia': [25, 35, 30, 28],\n",
    "        'Gaji': [50000, 60000, 70000, 55000]}\n",
    "\n",
    "df = pd.DataFrame(data)\n",
    "print(df)\n",
    "\n",
    "# # Pertanyaan 1:\n",
    "# # Gunakan loop for dan fungsi lambda untuk menghitung gaji setiap karyawan setelah diberikan peningkatan sebesar 5% dari gaji saat ini.\n",
    "# Menggunakan loop for dan fungsi lambda untuk menghitung peningkatan gaji sebesar 5%\n",
    "for index in range(len(df)):\n",
    "    df.at[index, 'Gaji'] = (lambda x: x * 1.05)(df.at[index, 'Gaji'])\n",
    "\n",
    "print(\"\\n\",df)\n",
    "\n",
    "# Pertanyaan 2:\n",
    "# Setelah perubahan dilakukan, tampilkan DataFrame yang sudah diperbarui dan berikan ringkasan perubahan yang telah terjadi.\n",
    "print(\"\\nRingkasan perubahan gaji setelah peningkatan 5%:\")\n",
    "print(df[['Nama', 'Gaji']])\n",
    "\n",
    "# Pertanyaan 3 & 4:\n",
    "# Gunakan loop for lagi untuk mengevaluasi karyawan yang usianya di atas 30 tahun. Jika usia karyawan di atas 30, berikan peningkatan tambahan sebesar 2% dari gaji saat ini menggunakan fungsi lambda.\n",
    "# Gunakan loop for untuk mengevaluasi karyawan yang usianya di atas 30 tahun\n",
    "# Tampilkan DataFrame yang sudah diperbarui setelah peningkatan gaji tambahan dan berikan ringkasan hasilnya.\n",
    "for index in range(len(df)):\n",
    "    if df.at[index, 'Usia'] > 30:\n",
    "        df.at[index, 'Gaji'] = (lambda x: x * 1.02)(df.at[index, 'Gaji'])\n",
    "print(\"\\nRingkasan hasil peningkatan gaji tambahan:\")\n",
    "print(df)\n"
   ]
  }
 ],
 "metadata": {
  "kernelspec": {
   "display_name": "Python 3",
   "language": "python",
   "name": "python3"
  },
  "language_info": {
   "codemirror_mode": {
    "name": "ipython",
    "version": 3
   },
   "file_extension": ".py",
   "mimetype": "text/x-python",
   "name": "python",
   "nbconvert_exporter": "python",
   "pygments_lexer": "ipython3",
   "version": "3.11.1"
  }
 },
 "nbformat": 4,
 "nbformat_minor": 2
}
